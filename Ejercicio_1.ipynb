{
  "nbformat": 4,
  "nbformat_minor": 0,
  "metadata": {
    "colab": {
      "provenance": [],
      "authorship_tag": "ABX9TyPFvP2xEBkAD684jAPvLrT5",
      "include_colab_link": true
    },
    "kernelspec": {
      "name": "python3",
      "display_name": "Python 3"
    },
    "language_info": {
      "name": "python"
    }
  },
  "cells": [
    {
      "cell_type": "markdown",
      "metadata": {
        "id": "view-in-github",
        "colab_type": "text"
      },
      "source": [
        "<a href=\"https://colab.research.google.com/github/LCaravaggio/AnalisisCuantitativoAvanzado/blob/main/Ejercicio_1.ipynb\" target=\"_parent\"><img src=\"https://colab.research.google.com/assets/colab-badge.svg\" alt=\"Open In Colab\"/></a>"
      ]
    },
    {
      "cell_type": "markdown",
      "source": [
        "# Ejercicio 1\n"
      ],
      "metadata": {
        "id": "VEOT7rO-UDYz"
      }
    },
    {
      "cell_type": "markdown",
      "source": [
        "# Cargar la base"
      ],
      "metadata": {
        "id": "JzX8zrpEYEgn"
      }
    },
    {
      "cell_type": "markdown",
      "source": [
        "Las siguientes celdas cargan desde Kaggle la base de datos del Reporte Mundial de la Felicidad 2019. "
      ],
      "metadata": {
        "id": "RmeZOfeqXpyj"
      }
    },
    {
      "cell_type": "code",
      "execution_count": 1,
      "metadata": {
        "id": "NsYhF_ynUCcH"
      },
      "outputs": [],
      "source": [
        "import pandas as pd\n",
        "import numpy as np"
      ]
    },
    {
      "cell_type": "code",
      "source": [
        "import json\n",
        "from google.colab import drive\n",
        "\n",
        "!mkdir ~/.kaggle\n",
        "!touch ~/.kaggle/kaggle.json\n",
        "\n",
        "drive.mount('/content/drive', force_remount=True)\n",
        "with open(\"/content/drive/My Drive/kaggle.json\", 'r') as f:\n",
        "    api_token= json.load(f)\n",
        "\n",
        "with open('/root/.kaggle/kaggle.json', 'w') as file:\n",
        "    json.dump(api_token, file)\n",
        "\n",
        "!chmod 600 ~/.kaggle/kaggle.json\n",
        "\n",
        "!kaggle datasets download -d unsdsn/world-happiness"
      ],
      "metadata": {
        "colab": {
          "base_uri": "https://localhost:8080/"
        },
        "id": "WTLg3UnrUTHr",
        "outputId": "e8978020-8a11-46b4-b4b1-0a864eef14a4"
      },
      "execution_count": 2,
      "outputs": [
        {
          "output_type": "stream",
          "name": "stdout",
          "text": [
            "Mounted at /content/drive\n",
            "Downloading world-happiness.zip to /content\n",
            "  0% 0.00/36.8k [00:00<?, ?B/s]\n",
            "100% 36.8k/36.8k [00:00<00:00, 13.6MB/s]\n"
          ]
        }
      ]
    },
    {
      "cell_type": "markdown",
      "source": [
        "¿Cómo se crea el archivo kaggle.json que contiene las credenciales para acceder? \n",
        "\n",
        "1) Es necesario tener una cuenta en kaggle.com \n",
        "\n",
        "\n",
        "2) Ir a la sección Account y generar un API token\n",
        "\n",
        "![image.png](data:image/png;base64,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)\n",
        "\n",
        "3) Con los datos de la key que nos proporciona Kaggle, crear un archivo .json (puedo hacerlo desde un editor de texto) que tenga el siguiente formato: \n",
        "\n",
        "```\n",
        "{\"username\":\"esteeselusername\",\"key\":\"estaeslakey\"}\n",
        "```\n",
        "\n",
        "y guardarlo en nuestro google drive. "
      ],
      "metadata": {
        "id": "qn0n3KVMVFSc"
      }
    },
    {
      "cell_type": "code",
      "source": [
        "# Extraigo todos los archivos que están en el .zip que acabamos de \"bajar\". \n",
        "\n",
        "import zipfile\n",
        "import os\n",
        "\n",
        "os.listdir()\n",
        "\n",
        "for file in os.listdir():\n",
        "    if file.endswith('.zip'):\n",
        "      zip_ref = zipfile.ZipFile(file, 'r')\n",
        "      zip_ref.extractall()\n",
        "      zip_ref.close()"
      ],
      "metadata": {
        "id": "YG5kXwV4W1W1"
      },
      "execution_count": 3,
      "outputs": []
    },
    {
      "cell_type": "code",
      "source": [
        "# Cargamos la base\n",
        "df = pd.read_csv('/content/2019.csv')"
      ],
      "metadata": {
        "id": "MqcqJgbfXCLU"
      },
      "execution_count": 4,
      "outputs": []
    },
    {
      "cell_type": "code",
      "source": [
        "df.head(5)"
      ],
      "metadata": {
        "colab": {
          "base_uri": "https://localhost:8080/",
          "height": 206
        },
        "id": "okHeMfY9XErq",
        "outputId": "3c8031e4-0878-4e20-d5cf-7ae3601325d7"
      },
      "execution_count": 6,
      "outputs": [
        {
          "output_type": "execute_result",
          "data": {
            "text/plain": [
              "   Overall rank Country or region  Score  GDP per capita  Social support  \\\n",
              "0             1           Finland  7.769           1.340           1.587   \n",
              "1             2           Denmark  7.600           1.383           1.573   \n",
              "2             3            Norway  7.554           1.488           1.582   \n",
              "3             4           Iceland  7.494           1.380           1.624   \n",
              "4             5       Netherlands  7.488           1.396           1.522   \n",
              "\n",
              "   Healthy life expectancy  Freedom to make life choices  Generosity  \\\n",
              "0                    0.986                         0.596       0.153   \n",
              "1                    0.996                         0.592       0.252   \n",
              "2                    1.028                         0.603       0.271   \n",
              "3                    1.026                         0.591       0.354   \n",
              "4                    0.999                         0.557       0.322   \n",
              "\n",
              "   Perceptions of corruption  \n",
              "0                      0.393  \n",
              "1                      0.410  \n",
              "2                      0.341  \n",
              "3                      0.118  \n",
              "4                      0.298  "
            ],
            "text/html": [
              "\n",
              "  <div id=\"df-a04ff8bc-1f0e-45c9-9ab8-cb140a99df1f\">\n",
              "    <div class=\"colab-df-container\">\n",
              "      <div>\n",
              "<style scoped>\n",
              "    .dataframe tbody tr th:only-of-type {\n",
              "        vertical-align: middle;\n",
              "    }\n",
              "\n",
              "    .dataframe tbody tr th {\n",
              "        vertical-align: top;\n",
              "    }\n",
              "\n",
              "    .dataframe thead th {\n",
              "        text-align: right;\n",
              "    }\n",
              "</style>\n",
              "<table border=\"1\" class=\"dataframe\">\n",
              "  <thead>\n",
              "    <tr style=\"text-align: right;\">\n",
              "      <th></th>\n",
              "      <th>Overall rank</th>\n",
              "      <th>Country or region</th>\n",
              "      <th>Score</th>\n",
              "      <th>GDP per capita</th>\n",
              "      <th>Social support</th>\n",
              "      <th>Healthy life expectancy</th>\n",
              "      <th>Freedom to make life choices</th>\n",
              "      <th>Generosity</th>\n",
              "      <th>Perceptions of corruption</th>\n",
              "    </tr>\n",
              "  </thead>\n",
              "  <tbody>\n",
              "    <tr>\n",
              "      <th>0</th>\n",
              "      <td>1</td>\n",
              "      <td>Finland</td>\n",
              "      <td>7.769</td>\n",
              "      <td>1.340</td>\n",
              "      <td>1.587</td>\n",
              "      <td>0.986</td>\n",
              "      <td>0.596</td>\n",
              "      <td>0.153</td>\n",
              "      <td>0.393</td>\n",
              "    </tr>\n",
              "    <tr>\n",
              "      <th>1</th>\n",
              "      <td>2</td>\n",
              "      <td>Denmark</td>\n",
              "      <td>7.600</td>\n",
              "      <td>1.383</td>\n",
              "      <td>1.573</td>\n",
              "      <td>0.996</td>\n",
              "      <td>0.592</td>\n",
              "      <td>0.252</td>\n",
              "      <td>0.410</td>\n",
              "    </tr>\n",
              "    <tr>\n",
              "      <th>2</th>\n",
              "      <td>3</td>\n",
              "      <td>Norway</td>\n",
              "      <td>7.554</td>\n",
              "      <td>1.488</td>\n",
              "      <td>1.582</td>\n",
              "      <td>1.028</td>\n",
              "      <td>0.603</td>\n",
              "      <td>0.271</td>\n",
              "      <td>0.341</td>\n",
              "    </tr>\n",
              "    <tr>\n",
              "      <th>3</th>\n",
              "      <td>4</td>\n",
              "      <td>Iceland</td>\n",
              "      <td>7.494</td>\n",
              "      <td>1.380</td>\n",
              "      <td>1.624</td>\n",
              "      <td>1.026</td>\n",
              "      <td>0.591</td>\n",
              "      <td>0.354</td>\n",
              "      <td>0.118</td>\n",
              "    </tr>\n",
              "    <tr>\n",
              "      <th>4</th>\n",
              "      <td>5</td>\n",
              "      <td>Netherlands</td>\n",
              "      <td>7.488</td>\n",
              "      <td>1.396</td>\n",
              "      <td>1.522</td>\n",
              "      <td>0.999</td>\n",
              "      <td>0.557</td>\n",
              "      <td>0.322</td>\n",
              "      <td>0.298</td>\n",
              "    </tr>\n",
              "  </tbody>\n",
              "</table>\n",
              "</div>\n",
              "      <button class=\"colab-df-convert\" onclick=\"convertToInteractive('df-a04ff8bc-1f0e-45c9-9ab8-cb140a99df1f')\"\n",
              "              title=\"Convert this dataframe to an interactive table.\"\n",
              "              style=\"display:none;\">\n",
              "        \n",
              "  <svg xmlns=\"http://www.w3.org/2000/svg\" height=\"24px\"viewBox=\"0 0 24 24\"\n",
              "       width=\"24px\">\n",
              "    <path d=\"M0 0h24v24H0V0z\" fill=\"none\"/>\n",
              "    <path d=\"M18.56 5.44l.94 2.06.94-2.06 2.06-.94-2.06-.94-.94-2.06-.94 2.06-2.06.94zm-11 1L8.5 8.5l.94-2.06 2.06-.94-2.06-.94L8.5 2.5l-.94 2.06-2.06.94zm10 10l.94 2.06.94-2.06 2.06-.94-2.06-.94-.94-2.06-.94 2.06-2.06.94z\"/><path d=\"M17.41 7.96l-1.37-1.37c-.4-.4-.92-.59-1.43-.59-.52 0-1.04.2-1.43.59L10.3 9.45l-7.72 7.72c-.78.78-.78 2.05 0 2.83L4 21.41c.39.39.9.59 1.41.59.51 0 1.02-.2 1.41-.59l7.78-7.78 2.81-2.81c.8-.78.8-2.07 0-2.86zM5.41 20L4 18.59l7.72-7.72 1.47 1.35L5.41 20z\"/>\n",
              "  </svg>\n",
              "      </button>\n",
              "      \n",
              "  <style>\n",
              "    .colab-df-container {\n",
              "      display:flex;\n",
              "      flex-wrap:wrap;\n",
              "      gap: 12px;\n",
              "    }\n",
              "\n",
              "    .colab-df-convert {\n",
              "      background-color: #E8F0FE;\n",
              "      border: none;\n",
              "      border-radius: 50%;\n",
              "      cursor: pointer;\n",
              "      display: none;\n",
              "      fill: #1967D2;\n",
              "      height: 32px;\n",
              "      padding: 0 0 0 0;\n",
              "      width: 32px;\n",
              "    }\n",
              "\n",
              "    .colab-df-convert:hover {\n",
              "      background-color: #E2EBFA;\n",
              "      box-shadow: 0px 1px 2px rgba(60, 64, 67, 0.3), 0px 1px 3px 1px rgba(60, 64, 67, 0.15);\n",
              "      fill: #174EA6;\n",
              "    }\n",
              "\n",
              "    [theme=dark] .colab-df-convert {\n",
              "      background-color: #3B4455;\n",
              "      fill: #D2E3FC;\n",
              "    }\n",
              "\n",
              "    [theme=dark] .colab-df-convert:hover {\n",
              "      background-color: #434B5C;\n",
              "      box-shadow: 0px 1px 3px 1px rgba(0, 0, 0, 0.15);\n",
              "      filter: drop-shadow(0px 1px 2px rgba(0, 0, 0, 0.3));\n",
              "      fill: #FFFFFF;\n",
              "    }\n",
              "  </style>\n",
              "\n",
              "      <script>\n",
              "        const buttonEl =\n",
              "          document.querySelector('#df-a04ff8bc-1f0e-45c9-9ab8-cb140a99df1f button.colab-df-convert');\n",
              "        buttonEl.style.display =\n",
              "          google.colab.kernel.accessAllowed ? 'block' : 'none';\n",
              "\n",
              "        async function convertToInteractive(key) {\n",
              "          const element = document.querySelector('#df-a04ff8bc-1f0e-45c9-9ab8-cb140a99df1f');\n",
              "          const dataTable =\n",
              "            await google.colab.kernel.invokeFunction('convertToInteractive',\n",
              "                                                     [key], {});\n",
              "          if (!dataTable) return;\n",
              "\n",
              "          const docLinkHtml = 'Like what you see? Visit the ' +\n",
              "            '<a target=\"_blank\" href=https://colab.research.google.com/notebooks/data_table.ipynb>data table notebook</a>'\n",
              "            + ' to learn more about interactive tables.';\n",
              "          element.innerHTML = '';\n",
              "          dataTable['output_type'] = 'display_data';\n",
              "          await google.colab.output.renderOutput(dataTable, element);\n",
              "          const docLink = document.createElement('div');\n",
              "          docLink.innerHTML = docLinkHtml;\n",
              "          element.appendChild(docLink);\n",
              "        }\n",
              "      </script>\n",
              "    </div>\n",
              "  </div>\n",
              "  "
            ]
          },
          "metadata": {},
          "execution_count": 6
        }
      ]
    },
    {
      "cell_type": "markdown",
      "source": [
        "# Preguntas"
      ],
      "metadata": {
        "id": "fY1By9hTXiiR"
      }
    },
    {
      "cell_type": "markdown",
      "source": [
        "Pregunta 1: \n",
        "¿Cuál es el score promedio de toda la base? \n",
        "\n",
        "Ayuda: df.Score.mean()"
      ],
      "metadata": {
        "id": "wF57yr-VXV-_"
      }
    },
    {
      "cell_type": "code",
      "source": [],
      "metadata": {
        "id": "iW4GOMHDXgzy"
      },
      "execution_count": null,
      "outputs": []
    },
    {
      "cell_type": "markdown",
      "source": [
        "Pregunta 2: ¿Cuál es el país con mayor esperanza de vida? \n",
        "\n",
        "Ayuda: \n",
        "\n",
        "La función `max()` devuelve el valor máximo de una serie. \n",
        "\n",
        "Por ejemplo: `df['Healthy life expectancy'].max()` devuelve el valor máximo de la esperanza de vida. Pero no es eso lo que se pregunta. \n",
        "\n",
        "La función `idmax()` devuelve el valor de id del valor que maximiza esa serie. \n",
        "\n",
        "Por ejemplo: `df['Healthy life expectancy'].idxmax()` devuelve el id del país con mayor esperanza de vida. \n",
        "\n",
        "Entonces, con `df['Country or region'][indice]` obtengo el nombre del país que maximiza la esperanza de vida, si en \"indice\" pongo el índice de ese país. \n",
        "\n",
        "También podría traer un listado completo de los valores de ese país haciendo `df.loc[indice]`"
      ],
      "metadata": {
        "id": "JoqL3wF3YIp-"
      }
    },
    {
      "cell_type": "code",
      "source": [],
      "metadata": {
        "id": "jHW_rIiqb5rs"
      },
      "execution_count": null,
      "outputs": []
    },
    {
      "cell_type": "markdown",
      "source": [
        "Pregunta 3: El siguiente código genera un gráfico con los veinte países de menor score de felicidad. \n",
        "\n",
        "\n",
        "\n",
        "```\n",
        "import plotly.express as px\n",
        "fig = px.bar(df.sort_values('Score')[:20].sort_values('Score') ,y='Country or region',\n",
        "             x='Score', title='Los 20 países menos felices',orientation='h',height=600)\n",
        "fig.show()\n",
        "```\n",
        "\n",
        "¿Cómo se podría modificar el mismo, de manera de obtener el gráfico de los 20 países más felices? \n",
        "\n"
      ],
      "metadata": {
        "id": "XtU-XwgacYLJ"
      }
    },
    {
      "cell_type": "code",
      "source": [],
      "metadata": {
        "id": "ugKRcwIzc5RG"
      },
      "execution_count": null,
      "outputs": []
    },
    {
      "cell_type": "markdown",
      "source": [
        "Pregunta 4: El siguiente código ajusta una regresión lineal con tres variables independientes para predecir la felicidad. \n",
        "\n",
        "\n",
        "\n",
        "```\n",
        "from sklearn import linear_model\n",
        "\n",
        "series=['GDP per capita','Social support', 'Healthy life expectancy']\n",
        "X=df[series]\n",
        "y=df['Score']\n",
        "\n",
        "lr = linear_model.LinearRegression()\n",
        "lr.fit(X, y)\n",
        "```\n",
        "\n",
        "¿Cuál es el score? ¿Cuáles son los parámetros aprendidos (coeficientes e intercepto)?\n",
        "\n",
        "Ayuda: lr.score(X,y), lr.coef_, lr.intercept_\n"
      ],
      "metadata": {
        "id": "AlnCMDK6dTwT"
      }
    },
    {
      "cell_type": "code",
      "source": [],
      "metadata": {
        "id": "R6sfiu6zeo0Q"
      },
      "execution_count": null,
      "outputs": []
    },
    {
      "cell_type": "markdown",
      "source": [
        "Pregunta 5: Imaginemos un país con GDP per cápita igual a 1.2, Social Support igual a 1.5 y expectativa de vida igual a 1. ¿Cuál sería el valor de score de felicidad que tendría de acuerdo con el modelo? \n",
        "\n",
        "Ayuda: \n",
        "\n",
        "Se puede hacer con la función integrada en sklearn: lr.predict\n",
        "\n",
        "O \"a mano\": Uno por uno, o usando la función np.matmul\n",
        "\n",
        "El resultado debería ser el mismo en ambos casos, lo que puede servir como chequeo de estar haciendo las cosas bien. \n"
      ],
      "metadata": {
        "id": "W62i72-RfF7W"
      }
    },
    {
      "cell_type": "code",
      "source": [],
      "metadata": {
        "id": "zE8_CAnegs7r"
      },
      "execution_count": null,
      "outputs": []
    }
  ]
}