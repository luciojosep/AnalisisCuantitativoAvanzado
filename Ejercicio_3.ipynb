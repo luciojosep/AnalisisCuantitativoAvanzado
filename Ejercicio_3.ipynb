{
  "nbformat": 4,
  "nbformat_minor": 0,
  "metadata": {
    "colab": {
      "provenance": [],
      "authorship_tag": "ABX9TyON6zZcE078jFkh50edDHp7",
      "include_colab_link": true
    },
    "kernelspec": {
      "name": "python3",
      "display_name": "Python 3"
    },
    "language_info": {
      "name": "python"
    }
  },
  "cells": [
    {
      "cell_type": "markdown",
      "metadata": {
        "id": "view-in-github",
        "colab_type": "text"
      },
      "source": [
        "<a href=\"https://colab.research.google.com/github/LCaravaggio/AnalisisCuantitativoAvanzado/blob/main/Ejercicio_3.ipynb\" target=\"_parent\"><img src=\"https://colab.research.google.com/assets/colab-badge.svg\" alt=\"Open In Colab\"/></a>"
      ]
    },
    {
      "cell_type": "markdown",
      "source": [
        "## Ejercicio 3\n",
        "## Cargar la base\n",
        "Para este segundo ejercicio se usa una base de precios de vuelos: https://www.kaggle.com/datasets/shubhambathwal/flight-price-prediction"
      ],
      "metadata": {
        "id": "P_GDIxR3FuaG"
      }
    },
    {
      "cell_type": "code",
      "source": [
        "import pandas as pd\n",
        "import numpy as np\n",
        "     \n",
        "\n",
        "import json\n",
        "from google.colab import drive\n",
        "\n",
        "!mkdir ~/.kaggle\n",
        "!touch ~/.kaggle/kaggle.json\n",
        "\n",
        "drive.mount('/content/drive', force_remount=True)\n",
        "with open(\"/content/drive/My Drive/kaggle.json\", 'r') as f:\n",
        "    api_token= json.load(f)\n",
        "\n",
        "with open('/root/.kaggle/kaggle.json', 'w') as file:\n",
        "    json.dump(api_token, file)\n",
        "\n",
        "!chmod 600 ~/.kaggle/kaggle.json\n",
        "\n",
        "!kaggle datasets download -d shubhambathwal/flight-price-prediction"
      ],
      "metadata": {
        "colab": {
          "base_uri": "https://localhost:8080/"
        },
        "id": "YaLV8LZuF3sf",
        "outputId": "6c411bad-ff98-416d-afda-4dab254020fb"
      },
      "execution_count": null,
      "outputs": [
        {
          "output_type": "stream",
          "name": "stdout",
          "text": [
            "mkdir: cannot create directory ‘/root/.kaggle’: File exists\n",
            "Mounted at /content/drive\n",
            "Downloading flight-price-prediction.zip to /content\n",
            " 96% 4.00M/4.16M [00:00<00:00, 5.81MB/s]\n",
            "100% 4.16M/4.16M [00:01<00:00, 4.36MB/s]\n"
          ]
        }
      ]
    },
    {
      "cell_type": "code",
      "source": [
        "# Extraigo todos los archivos que están en el .zip que acabamos de \"bajar\". \n",
        "\n",
        "import zipfile\n",
        "import os\n",
        "\n",
        "os.listdir()\n",
        "\n",
        "for file in os.listdir():\n",
        "    if file.endswith('.zip'):\n",
        "      zip_ref = zipfile.ZipFile(file, 'r')\n",
        "      zip_ref.extractall()\n",
        "      zip_ref.close()"
      ],
      "metadata": {
        "id": "JwxaQzSpGaOq"
      },
      "execution_count": null,
      "outputs": []
    },
    {
      "cell_type": "code",
      "source": [
        "# Vamos a trabajar con el Clean Data Set\n",
        "df = pd.read_csv('/content/Clean_Dataset.csv')"
      ],
      "metadata": {
        "id": "ayWiBMOEIbwi"
      },
      "execution_count": null,
      "outputs": []
    },
    {
      "cell_type": "markdown",
      "source": [
        "# Preguntas"
      ],
      "metadata": {
        "id": "9RrweXP-Ik9v"
      }
    },
    {
      "cell_type": "markdown",
      "source": [
        "Pregunta 1: ¿Qué R2 se obtiene si se calcula una regresión lineal entre la duración del vuelo y su precio? \n",
        "\n",
        "Ayuda: \n",
        "\n",
        "Con statsmodels puede calcularse así: \n",
        "```\n",
        "import statsmodels.api as sm\n",
        "mod = sm.OLS(df['price'], df['duration'])\n",
        "res = mod.fit()\n",
        "print(res.summary())\n",
        "```\n",
        "\n",
        "Con sklearn puede calcularse así: \n",
        "```\n",
        "from sklearn.linear_model import LinearRegression\n",
        "X=['duration']\n",
        "y=df['price']\n",
        "reg = LinearRegression().fit(df[X],y)\n",
        "reg.score(df[X], y)\n",
        "```\n",
        "\n"
      ],
      "metadata": {
        "id": "fzTCjbJiIoFn"
      }
    },
    {
      "cell_type": "code",
      "source": [],
      "metadata": {
        "id": "uUsNE9EQweer"
      },
      "execution_count": null,
      "outputs": []
    },
    {
      "cell_type": "markdown",
      "source": [
        "Pregunta 2: realice un split de entrenamiento y testeo con el siguiente código: \n",
        "\n",
        "```\n",
        "from sklearn.model_selection import train_test_split\n",
        "X_train, X_test, y_train, y_test = train_test_split(df[X],y, test_size=0.2, random_state=1)\n",
        "```\n",
        "\n",
        "Calcule la regresión utilizando solamente los datos de entrenamiento: \n",
        "\n",
        "```\n",
        "reg = LinearRegression().fit(X_train,y_train)\n",
        "```\n",
        "\n",
        "¿Por qué difieren los R2 obtenidos para entrenamiento y para testeo? \n",
        "\n",
        "\n",
        "```\n",
        "print(reg.score(X_train,y_train))\n",
        "print(reg.score(X_test,y_test))\n",
        "```\n",
        "\n",
        "\n",
        "\n"
      ],
      "metadata": {
        "id": "aTvoqpOwyDnK"
      }
    },
    {
      "cell_type": "code",
      "source": [],
      "metadata": {
        "id": "eNPGksOGy4fh"
      },
      "execution_count": null,
      "outputs": []
    },
    {
      "cell_type": "markdown",
      "source": [
        "Pregunta 3: ¿Si agregamos más avariables predictivas, qué va a pasar con el R2? Muéstrelo. "
      ],
      "metadata": {
        "id": "SxBIUh8b2DWk"
      }
    },
    {
      "cell_type": "code",
      "source": [],
      "metadata": {
        "id": "tZQNJsDl2e8M"
      },
      "execution_count": null,
      "outputs": []
    },
    {
      "cell_type": "markdown",
      "source": [
        "Pregunta 4: Algunas variables son categóricas y por tanto no se pueden incluir como predictoras. ¿Qué se podría hacer para incluirlas? \n",
        "\n",
        "Ayuda: \n",
        "Una idea podría ser convertir esas categorías en valores númericos. Pero piense que aveces las categorias respetan cierta \"distancia\", mientras que otras veces no. Esto puede hacerse con pandas así: \n",
        "\n",
        "\n",
        "```\n",
        "df['departure_time_cat']=df['departure_time'].astype('category').cat.codes\n",
        "```\n",
        "\n",
        "Otra idea sería generar variables dummys para cada una de las categorías. ¿Qué ventajas y desventajas tiene esto? \n",
        "\n",
        "\n",
        "\n",
        "```\n",
        "df=pd.get_dummies(df, columns=['departure_time'], drop_first=True)\n",
        "```\n",
        "\n",
        "\n"
      ],
      "metadata": {
        "id": "LiAthXlA2eg5"
      }
    },
    {
      "cell_type": "code",
      "source": [],
      "metadata": {
        "id": "XPKFwXElJNri"
      },
      "execution_count": null,
      "outputs": []
    },
    {
      "cell_type": "markdown",
      "source": [
        "Pregunta 5: "
      ],
      "metadata": {
        "id": "eFoG4skkL0OS"
      }
    },
    {
      "cell_type": "markdown",
      "source": [
        "Pregunta 5: Observe la siguiente situación\n",
        "\n",
        "\n",
        "```\n",
        "X=['duration', 'days_left', 'departure_time_cat',\t'departure_time_Early_Morning',\t'departure_time_Evening',\t'departure_time_Late_Night'\t,'departure_time_Morning',\t'departure_time_Night']\n",
        "X_train, X_test, y_train, y_test = train_test_split(df[X],y, test_size=0.2, random_state=1)\n",
        "reg = LinearRegression().fit(X_train,y_train)\n",
        "print(reg.score(X_test,y_test))\n",
        "\n",
        "df['source_city_cat']=df['source_city'].astype('category').cat.codes\n",
        "X=['source_city_cat','duration', 'days_left', 'departure_time_cat',\t'departure_time_Early_Morning',\t'departure_time_Evening',\t'departure_time_Late_Night'\t,'departure_time_Morning',\t'departure_time_Night']\n",
        "X_train, X_test, y_train, y_test = train_test_split(df[X],y, test_size=0.2, random_state=1)\n",
        "reg = LinearRegression().fit(X_train,y_train)\n",
        "print(reg.score(X_test,y_test))\n",
        "```\n",
        "\n",
        "Calculamos el R2 de testeo de una regresión con las variables que generamos. Luego, agregamos una variable más con un código que responde a la ciudad de origen. Pero al hacer esto último, el R2 no mejora. ¿Por qué? \n"
      ],
      "metadata": {
        "id": "HmiQ7UXDPKvt"
      }
    },
    {
      "cell_type": "code",
      "source": [],
      "metadata": {
        "id": "tA8_8_PDPqiw"
      },
      "execution_count": null,
      "outputs": []
    }
  ]
}