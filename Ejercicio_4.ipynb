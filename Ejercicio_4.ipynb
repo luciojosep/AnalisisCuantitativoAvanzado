{
  "nbformat": 4,
  "nbformat_minor": 0,
  "metadata": {
    "colab": {
      "provenance": [],
      "authorship_tag": "ABX9TyMl9GFu3x9eBl3D5sO9lm1c",
      "include_colab_link": true
    },
    "kernelspec": {
      "name": "python3",
      "display_name": "Python 3"
    },
    "language_info": {
      "name": "python"
    }
  },
  "cells": [
    {
      "cell_type": "markdown",
      "metadata": {
        "id": "view-in-github",
        "colab_type": "text"
      },
      "source": [
        "<a href=\"https://colab.research.google.com/github/LCaravaggio/AnalisisCuantitativoAvanzado/blob/main/Ejercicio_4.ipynb\" target=\"_parent\"><img src=\"https://colab.research.google.com/assets/colab-badge.svg\" alt=\"Open In Colab\"/></a>"
      ]
    },
    {
      "cell_type": "markdown",
      "source": [
        "# Ejercicio 4\n",
        "\n",
        "\n",
        "Se utiliza un modelo de Churn de usuarios de tarjetas de crédito: \n",
        "https://www.kaggle.com/code/mzmdgaming/credit-card-customer-churn-model"
      ],
      "metadata": {
        "id": "RxXbMhbmpiaE"
      }
    },
    {
      "cell_type": "markdown",
      "source": [
        "# Cargar la base"
      ],
      "metadata": {
        "id": "tmvL5l0vhaSY"
      }
    },
    {
      "cell_type": "code",
      "source": [
        "import pandas as pd\n",
        "import numpy as np\n",
        "     \n",
        "\n",
        "import json\n",
        "from google.colab import drive\n",
        "\n",
        "!mkdir ~/.kaggle\n",
        "!touch ~/.kaggle/kaggle.json\n",
        "\n",
        "drive.mount('/content/drive', force_remount=True)\n",
        "with open(\"/content/drive/My Drive/kaggle.json\", 'r') as f:\n",
        "    api_token= json.load(f)\n",
        "\n",
        "with open('/root/.kaggle/kaggle.json', 'w') as file:\n",
        "    json.dump(api_token, file)\n",
        "\n",
        "!chmod 600 ~/.kaggle/kaggle.json\n",
        "\n",
        "!kaggle datasets download -d thedevastator/predicting-credit-card-customer-attrition-with-m"
      ],
      "metadata": {
        "colab": {
          "base_uri": "https://localhost:8080/"
        },
        "id": "hvJWAhHBhb_O",
        "outputId": "6c7d46f2-7177-447c-f91a-de5043037502"
      },
      "execution_count": 1,
      "outputs": [
        {
          "output_type": "stream",
          "name": "stdout",
          "text": [
            "Mounted at /content/drive\n",
            "Downloading predicting-credit-card-customer-attrition-with-m.zip to /content\n",
            "  0% 0.00/379k [00:00<?, ?B/s]\n",
            "100% 379k/379k [00:00<00:00, 112MB/s]\n"
          ]
        }
      ]
    },
    {
      "cell_type": "code",
      "source": [
        "# Extraigo todos los archivos que están en el .zip que acabamos de \"bajar\". \n",
        "\n",
        "import zipfile\n",
        "import os\n",
        "\n",
        "os.listdir()\n",
        "\n",
        "for file in os.listdir():\n",
        "    if file.endswith('.zip'):\n",
        "      zip_ref = zipfile.ZipFile(file, 'r')\n",
        "      zip_ref.extractall()\n",
        "      zip_ref.close()"
      ],
      "metadata": {
        "id": "n4TgflhJmGSk"
      },
      "execution_count": 2,
      "outputs": []
    },
    {
      "cell_type": "code",
      "source": [
        "df = pd.read_csv('/content/BankChurners.csv')"
      ],
      "metadata": {
        "id": "pVQU4sycmJT9"
      },
      "execution_count": 3,
      "outputs": []
    },
    {
      "cell_type": "markdown",
      "source": [
        "# Preguntas"
      ],
      "metadata": {
        "id": "a3tQcSNKmUia"
      }
    },
    {
      "cell_type": "markdown",
      "source": [
        "Pregunta 1: ¿Cuántos de los usuarios son attrited? \n",
        "\n",
        "Ayuda: La variable que identifica a estos usuarios es 'Attrition_Flag'\n",
        "\n",
        "Una función posible para calcularlo es: .value_counts()"
      ],
      "metadata": {
        "id": "yzR8_TTynvyd"
      }
    },
    {
      "cell_type": "code",
      "source": [],
      "metadata": {
        "id": "N46W8M-5mWTK"
      },
      "execution_count": 5,
      "outputs": []
    },
    {
      "cell_type": "markdown",
      "source": [
        "Pregunta 2: \n",
        "\n",
        "El siguiente código genera una variable dummy con valor 0 para los usuarios que permanecen y valor 1 para los que se fueron.\n",
        "\n",
        "\n",
        "\n",
        "```\n",
        "df['attrited']=pd.get_dummies(df['Attrition_Flag'])['Attrited Customer']\n",
        "```\n",
        "\n",
        "Este otro genera dos datasets distintos, el primero con la información, el segundo con el objetivo\n",
        "\n",
        "\n",
        "\n",
        "```\n",
        "variables=['Customer_Age', 'Months_on_book',\n",
        "       'Total_Relationship_Count', 'Months_Inactive_12_mon',\n",
        "       'Contacts_Count_12_mon', 'Credit_Limit', 'Total_Revolving_Bal',\n",
        "       'Avg_Open_To_Buy', 'Total_Amt_Chng_Q4_Q1', 'Total_Trans_Amt']\n",
        "\n",
        "X=df[variables]\n",
        "Y=df['attrited']\n",
        "```\n",
        "\n",
        "Con esto ya podríamos correr un sencillo modelo LASSO: \n",
        "\n",
        "\n",
        "\n",
        "```\n",
        "from sklearn.linear_model import LogisticRegression\n",
        "from sklearn.model_selection import train_test_split\n",
        "\n",
        "X_train, X_test, y_train, y_test = train_test_split(X,Y, test_size=0.2, random_state=1)\n",
        "lr = LogisticRegression(penalty='l1', max_iter=1000, solver='liblinear')\n",
        "lr.fit(X_train,y_train)\n",
        "```\n",
        "\n",
        "¿Cuál es el score de train y cuál el de test? \n",
        "\n",
        "Ayuda: \n",
        "\n",
        "```\n",
        "print(lr.score(X_train,y_train))\n",
        "print(lr.score(X_test,y_test))\n",
        "```\n",
        "\n",
        "\n",
        "Ok, eso fue fácil, pero ¿Qué significan esos números?\n",
        "\n",
        "https://scikit-learn.org/stable/modules/generated/sklearn.linear_model.LogisticRegression.html#sklearn.linear_model.LogisticRegression.score\n"
      ],
      "metadata": {
        "id": "TE00S1MPoDBo"
      }
    },
    {
      "cell_type": "code",
      "source": [
        "print(lr.score(X_train,y_train))\n",
        "print(lr.score(X_test,y_test))"
      ],
      "metadata": {
        "colab": {
          "base_uri": "https://localhost:8080/"
        },
        "id": "gdZsy5LcwXlN",
        "outputId": "6f24fa26-eb80-4400-97cb-132f06e84915"
      },
      "execution_count": 31,
      "outputs": [
        {
          "output_type": "stream",
          "name": "stdout",
          "text": [
            "0.8735958523639057\n",
            "0.87857847976308\n"
          ]
        }
      ]
    },
    {
      "cell_type": "markdown",
      "source": [
        "Pregunta 3: Utilice ahora un modelo tipo elastic-net. ¿Mejora la predicción? \n",
        "\n",
        "Ayuda: \n",
        "\n",
        "penalty='elasticnet' y tendrá que cambiar el solver y agregar el l1_ratio"
      ],
      "metadata": {
        "id": "vjOPigduxCZf"
      }
    },
    {
      "cell_type": "code",
      "source": [],
      "metadata": {
        "id": "seApVFXhxTdp"
      },
      "execution_count": 40,
      "outputs": []
    },
    {
      "cell_type": "markdown",
      "source": [
        "Pregunta 4: ¿Cómo es la matriz de confusión? ¿Qué significa?\n",
        "\n",
        "Ayuda: \n",
        "\n",
        "\n",
        "\n",
        "```\n",
        "from sklearn.metrics import confusion_matrix\n",
        "\n",
        "y_pred=lr.predict(X_test)\n",
        "y_true=y_test\n",
        "confusion_matrix(y_true, y_pred)\n",
        "```\n",
        "\n",
        "También puede utilizar la funión .ravel() para obtener en orden los TN, FP, FN y TP.\n",
        "\n",
        "https://scikit-learn.org/stable/modules/generated/sklearn.metrics.confusion_matrix.html\n"
      ],
      "metadata": {
        "id": "Pp931Wr3ylUu"
      }
    },
    {
      "cell_type": "code",
      "source": [],
      "metadata": {
        "id": "gCbxtqBNyspx"
      },
      "execution_count": 45,
      "outputs": []
    },
    {
      "cell_type": "markdown",
      "source": [
        "Pregunta 5: ¿Cómo se puede hacer para obtener una predicción mejor que la obtenida? "
      ],
      "metadata": {
        "id": "NadxqNC70Ncx"
      }
    },
    {
      "cell_type": "code",
      "source": [],
      "metadata": {
        "id": "J3CLcTl40TbK"
      },
      "execution_count": null,
      "outputs": []
    }
  ]
}